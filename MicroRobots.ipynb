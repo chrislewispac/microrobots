{
 "cells": [
  {
   "cell_type": "markdown",
   "metadata": {},
   "source": [
    "# Graph Characteristics\n",
    "## Node Characteristics\n",
    "- Tile Number\n",
    "- Node Color\n",
    "- Node Number\n",
    "\n",
    "## Edge Characteristics\n",
    "- Edge exists iff \n",
    "    - same node number\n",
    "    - same node color\n",
    "    - both nodes exist on same x or y axis"
   ]
  },
  {
   "cell_type": "code",
   "execution_count": null,
   "metadata": {
    "jupyter": {
     "source_hidden": true
    }
   },
   "outputs": [],
   "source": []
  },
  {
   "cell_type": "code",
   "execution_count": 27,
   "metadata": {},
   "outputs": [
    {
     "data": {
      "image/png": "[encoded data removed]",
      "text/plain": [
       "<Figure size 432x288 with 1 Axes>"
      ]
     },
     "metadata": {},
     "output_type": "display_data"
    }
   ],
   "source": [
    "import matplotlib.pyplot as plt\n",
    "import networkx as nx\n",
    "import numpy as np\n",
    "\n",
    "G = nx.cubical_graph()\n",
    "pos = nx.spring_layout(G)  # positions for all nodes\n",
    "\n",
    "# nodes\n",
    "options = {\"node_size\": 500, \"alpha\": 0.8}\n",
    "nx.draw_networkx_nodes(G, pos, nodelist=[0, 1, 2, 3], node_color=\"r\", **options)\n",
    "nx.draw_networkx_nodes(G, pos, nodelist=[4, 5, 6, 7], node_color=\"b\", **options)\n",
    "\n",
    "# edges\n",
    "nx.draw_networkx_edges(G, pos, width=1.0, alpha=0.5)\n",
    "nx.draw_networkx_edges(\n",
    "    G,\n",
    "    pos,\n",
    "    edgelist=[(0, 1), (1, 2), (2, 3), (3, 0)],\n",
    "    width=8,\n",
    "    alpha=0.5,\n",
    "    edge_color=\"r\",\n",
    ")\n",
    "nx.draw_networkx_edges(\n",
    "    G,\n",
    "    pos,\n",
    "    edgelist=[(4, 5), (5, 6), (6, 7), (7, 4)],\n",
    "    width=8,\n",
    "    alpha=0.5,\n",
    "    edge_color=\"b\",\n",
    ")\n",
    "\n",
    "\n",
    "# some math labels\n",
    "labels = {}\n",
    "labels[0] = r\"$a$\"\n",
    "labels[1] = r\"$b$\"\n",
    "labels[2] = r\"$c$\"\n",
    "labels[3] = r\"$d$\"\n",
    "labels[4] = r\"$\\alpha$\"\n",
    "labels[5] = r\"$\\beta$\"\n",
    "labels[6] = r\"$\\gamma$\"\n",
    "labels[7] = r\"$\\delta$\"\n",
    "nx.draw_networkx_labels(G, pos, labels, font_size=16)\n",
    "\n",
    "plt.axis(\"off\")\n",
    "plt.show()"
   ]
  },
  {
   "cell_type": "code",
   "execution_count": 103,
   "metadata": {},
   "outputs": [
    {
     "name": "stdout",
     "output_type": "stream",
     "text": [
      "P 5 TL | P 2 TT | P 3 TR | \n",
      "\n",
      "R 6 LL | R 4 MM | Y 3 RR | \n",
      "\n",
      "B 4 BL | G 5 BB | G 3 BR | \n",
      "\n",
      "P 5 TL | P 2 TT | P 3 TR | \n",
      "\n",
      "R 6 LL | R 4 MM | Y 3 RR | \n",
      "\n",
      "B 4 BL | G 5 BB | G 3 BR | \n",
      "\n",
      "P 5 TL | P 2 TT | P 3 TR | P 5 TL | P 2 TT | P 3 TR | "
     ]
    }
   ],
   "source": [
    "###### from numpy import * \n",
    "\n",
    "class Square:\n",
    "    def __init__(self, color, number, side):\n",
    "        self.color = color\n",
    "        self.number = number\n",
    "        self.side = side\n",
    "        \n",
    "class Tile:\n",
    "    def __init__(self, tile_number, matrix):\n",
    "        self.number = tile_number\n",
    "        self.matrix = matrix\n",
    "    \n",
    "    def print_tile(self):\n",
    "        for row in self.matrix:\n",
    "            for cell in row:\n",
    "                print(cell.color, end=' ')\n",
    "                print(cell.number, end=' ')\n",
    "                print(cell.side, end=' | ')\n",
    "            print(\"\\n\")\n",
    "            \n",
    "    def print_tile_row(self, row):\n",
    "        for cell in self.matrix[row]:\n",
    "            print(cell.color, end=' ')\n",
    "            print(cell.number, end=' ')\n",
    "            print(cell.side, end=' | ')\n",
    "\n",
    "\n",
    "\n",
    "class Board:\n",
    "    def __init__(self, matrix):\n",
    "        self.matrix = matrix\n",
    "        \n",
    "    def print_board(self):\n",
    "        self.matrix[0][0].print_tile_row(0)\n",
    "        self.matrix[0][1].print_tile_row(0)\n",
    "            \n",
    "tileOne = Tile(1, np.array([[Square(\"P\", 5, \"TL\"), Square(\"P\", 2, \"TT\"), Square(\"P\", 3, \"TR\")],\n",
    "             [Square(\"R\", 6, \"LL\"), Square(\"R\", 4, \"MM\"),Square(\"Y\", 3, \"RR\")],\n",
    "             [Square(\"B\", 4, \"BL\"), Square(\"G\", 5, \"BB\"), Square(\"G\", 3, \"BR\")]]).reshape(3,3))\n",
    "\n",
    "tileTwo = Tile(2, np.array([[Square(\"P\", 5, \"TL\"), Square(\"P\", 2, \"TT\"), Square(\"P\", 3, \"TR\")],\n",
    "             [Square(\"R\", 6, \"LL\"), Square(\"R\", 4, \"MM\"),Square(\"Y\", 3, \"RR\")],\n",
    "             [Square(\"B\", 4, \"BL\"), Square(\"G\", 5, \"BB\"), Square(\"G\", 3, \"BR\")]]).reshape(3,3))\n",
    "\n",
    "tileThree = Tile(3, np.array([[Square(\"P\", 5, \"TL\"), Square(\"P\", 2, \"TT\"), Square(\"P\", 3, \"TR\")],\n",
    "             [Square(\"R\", 6, \"LL\"), Square(\"R\", 4, \"MM\"),Square(\"Y\", 3, \"RR\")],\n",
    "             [Square(\"B\", 4, \"BL\"), Square(\"G\", 5, \"BB\"), Square(\"G\", 3, \"BR\")]]).reshape(3,3))\n",
    "\n",
    "tileFour = Tile(4, np.array([[Square(\"P\", 5, \"TL\"), Square(\"P\", 2, \"TT\"), Square(\"P\", 3, \"TR\")],\n",
    "             [Square(\"R\", 6, \"LL\"), Square(\"R\", 4, \"MM\"),Square(\"Y\", 3, \"RR\")],\n",
    "             [Square(\"B\", 4, \"BL\"), Square(\"G\", 5, \"BB\"), Square(\"G\", 3, \"BR\")]]).reshape(3,3))\n",
    "\n",
    "board = Board(np.array([[tileOne, tileTwo], [tileThree, tileFour]]).reshape(2,2))\n",
    "\n",
    "tileOne.print_tile()\n",
    "\n",
    "tileTwo.print_tile()\n",
    "\n",
    "board.print_board()\n",
    "\n",
    "\n",
    "\n",
    "\n"
   ]
  },
  {
   "cell_type": "markdown",
   "metadata": {},
   "source": [
    "##### "
   ]
  },
  {
   "cell_type": "code",
   "execution_count": null,
   "metadata": {},
   "outputs": [],
   "source": []
  }
 ],
 "metadata": {
  "kernelspec": {
   "display_name": "Python 3",
   "language": "python",
   "name": "python3"
  },
  "language_info": {
   "codemirror_mode": {
    "name": "ipython",
    "version": 3
   },
   "file_extension": ".py",
   "mimetype": "text/x-python",
   "name": "python",
   "nbconvert_exporter": "python",
   "pygments_lexer": "ipython3",
   "version": "3.8.3"
  }
 },
 "nbformat": 4,
 "nbformat_minor": 4
}
